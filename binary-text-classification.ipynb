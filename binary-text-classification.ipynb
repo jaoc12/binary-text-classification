{
  "nbformat": 4,
  "nbformat_minor": 0,
  "metadata": {
    "colab": {
      "name": "proiect-retele.ipynb",
      "provenance": [],
      "collapsed_sections": [],
      "machine_shape": "hm"
    },
    "kernelspec": {
      "name": "python3",
      "display_name": "Python 3"
    }
  },
  "cells": [
    {
      "cell_type": "code",
      "metadata": {
        "id": "4ThOdIBRT_la",
        "colab_type": "code",
        "colab": {}
      },
      "source": [
        "import numpy as np\n",
        "import pandas as pd\n",
        "from sklearn.feature_extraction.text import TfidfVectorizer\n",
        "from sklearn import metrics\n",
        "from scipy import sparse\n",
        "from matplotlib import pyplot as plt\n",
        "from tensorflow.keras.models import Sequential\n",
        "from tensorflow.keras import layers"
      ],
      "execution_count": 0,
      "outputs": []
    },
    {
      "cell_type": "code",
      "metadata": {
        "id": "0jKCoNlFmN-U",
        "colab_type": "code",
        "colab": {}
      },
      "source": [
        "# pentru datele de training si validation luam doar coloana a doua\n",
        "training_data = np.genfromtxt('train_samples.txt',comments='None', dtype='str', delimiter='\\t', encoding='utf-8')[:, 1]\n",
        "training_labels = np.loadtxt('train_labels.txt', dtype='int')[:, 1]\n",
        "\n",
        "validation_data = np.genfromtxt('validation_samples.txt',comments='None', dtype='str', delimiter='\\t', encoding='utf-8')[:, 1]\n",
        "validation_labels = np.loadtxt('validation_labels.txt', dtype='int')[:, 1]\n",
        "\n",
        "test_data = np.genfromtxt('test_samples.txt',comments='None', dtype='str', delimiter='\\t', encoding='utf-8')\n"
      ],
      "execution_count": 0,
      "outputs": []
    },
    {
      "cell_type": "code",
      "metadata": {
        "id": "gLLvftJHnfPn",
        "colab_type": "code",
        "colab": {}
      },
      "source": [
        "transformer = TfidfVectorizer(ngram_range=(6, 6), analyzer='char_wb', lowercase=False, norm='l2')\n",
        "\n",
        "# keras accepta doar matrici dense nu sparse\n",
        "training_features = transformer.fit_transform(training_data)\n",
        "training_features = sparse.csr_matrix.todense(training_features)\n",
        "\n",
        "validation_features = transformer.transform(validation_data)\n",
        "validation_features = sparse.csr_matrix.todense(validation_features)\n"
      ],
      "execution_count": 0,
      "outputs": []
    },
    {
      "cell_type": "code",
      "metadata": {
        "id": "ftAeYvnen0ve",
        "colab_type": "code",
        "outputId": "54d6e39d-ae79-4a30-9722-6124ae96f756",
        "colab": {
          "base_uri": "https://localhost:8080/",
          "height": 1000
        }
      },
      "source": [
        "model = Sequential()\n",
        "\n",
        "activation = 'sigmoid'\n",
        "\n",
        "model.add(layers.Dense(units=4, input_dim=(training_features.shape[1])))\n",
        "model.add(layers.Activation(activation))\n",
        "model.add(layers.Dropout(0.5))\n",
        "\n",
        "model.add(layers.Dense(units=8))\n",
        "model.add(layers.Activation(activation))\n",
        "model.add(layers.Dropout(0.5))\n",
        "\n",
        "model.add(layers.Dense(units=4))\n",
        "model.add(layers.Activation(activation))\n",
        "model.add(layers.Dropout(0.5))\n",
        "\n",
        "model.add(layers.Dense(units=1))\n",
        "model.add(layers.Activation('sigmoid'))\n",
        "\n",
        "model.compile(loss='binary_crossentropy',\n",
        "              optimizer='adam',\n",
        "              metrics=['accuracy'])\n",
        "\n",
        "history = model.fit(training_features, training_labels,\n",
        "                    epochs=100, batch_size=100,\n",
        "                    validation_data=(validation_features, validation_labels))"
      ],
      "execution_count": 0,
      "outputs": [
        {
          "output_type": "stream",
          "text": [
            "Epoch 1/100\n",
            "78/78 [==============================] - 2s 28ms/step - loss: 0.7655 - accuracy: 0.4944 - val_loss: 0.7313 - val_accuracy: 0.4898\n",
            "Epoch 2/100\n",
            "78/78 [==============================] - 2s 25ms/step - loss: 0.7278 - accuracy: 0.4963 - val_loss: 0.7080 - val_accuracy: 0.4898\n",
            "Epoch 3/100\n",
            "78/78 [==============================] - 2s 25ms/step - loss: 0.7109 - accuracy: 0.4943 - val_loss: 0.6985 - val_accuracy: 0.4898\n",
            "Epoch 4/100\n",
            "78/78 [==============================] - 2s 25ms/step - loss: 0.7007 - accuracy: 0.5032 - val_loss: 0.6949 - val_accuracy: 0.4898\n",
            "Epoch 5/100\n",
            "78/78 [==============================] - 2s 25ms/step - loss: 0.6977 - accuracy: 0.4961 - val_loss: 0.6936 - val_accuracy: 0.4898\n",
            "Epoch 6/100\n",
            "78/78 [==============================] - 2s 26ms/step - loss: 0.6954 - accuracy: 0.5035 - val_loss: 0.6931 - val_accuracy: 0.5102\n",
            "Epoch 7/100\n",
            "78/78 [==============================] - 2s 26ms/step - loss: 0.6955 - accuracy: 0.4998 - val_loss: 0.6929 - val_accuracy: 0.5102\n",
            "Epoch 8/100\n",
            "78/78 [==============================] - 2s 26ms/step - loss: 0.6939 - accuracy: 0.5005 - val_loss: 0.6929 - val_accuracy: 0.5102\n",
            "Epoch 9/100\n",
            "78/78 [==============================] - 2s 26ms/step - loss: 0.6937 - accuracy: 0.5127 - val_loss: 0.6928 - val_accuracy: 0.5102\n",
            "Epoch 10/100\n",
            "78/78 [==============================] - 2s 26ms/step - loss: 0.6944 - accuracy: 0.5087 - val_loss: 0.6929 - val_accuracy: 0.5102\n",
            "Epoch 11/100\n",
            "78/78 [==============================] - 2s 24ms/step - loss: 0.6947 - accuracy: 0.5061 - val_loss: 0.6929 - val_accuracy: 0.5102\n",
            "Epoch 12/100\n",
            "78/78 [==============================] - 2s 24ms/step - loss: 0.6949 - accuracy: 0.4993 - val_loss: 0.6929 - val_accuracy: 0.5102\n",
            "Epoch 13/100\n",
            "78/78 [==============================] - 2s 24ms/step - loss: 0.6943 - accuracy: 0.5037 - val_loss: 0.6928 - val_accuracy: 0.5102\n",
            "Epoch 14/100\n",
            "78/78 [==============================] - 2s 24ms/step - loss: 0.6939 - accuracy: 0.5006 - val_loss: 0.6928 - val_accuracy: 0.5102\n",
            "Epoch 15/100\n",
            "78/78 [==============================] - 2s 24ms/step - loss: 0.6941 - accuracy: 0.5056 - val_loss: 0.6928 - val_accuracy: 0.5102\n",
            "Epoch 16/100\n",
            "78/78 [==============================] - 2s 24ms/step - loss: 0.6935 - accuracy: 0.5055 - val_loss: 0.6928 - val_accuracy: 0.5102\n",
            "Epoch 17/100\n",
            "78/78 [==============================] - 2s 24ms/step - loss: 0.6942 - accuracy: 0.4995 - val_loss: 0.6928 - val_accuracy: 0.5102\n",
            "Epoch 18/100\n",
            "78/78 [==============================] - 2s 24ms/step - loss: 0.6934 - accuracy: 0.5105 - val_loss: 0.6928 - val_accuracy: 0.5102\n",
            "Epoch 19/100\n",
            "78/78 [==============================] - 2s 26ms/step - loss: 0.6944 - accuracy: 0.4967 - val_loss: 0.6928 - val_accuracy: 0.5102\n",
            "Epoch 20/100\n",
            "78/78 [==============================] - 2s 24ms/step - loss: 0.6938 - accuracy: 0.5093 - val_loss: 0.6928 - val_accuracy: 0.5102\n",
            "Epoch 21/100\n",
            "78/78 [==============================] - 2s 24ms/step - loss: 0.6939 - accuracy: 0.5003 - val_loss: 0.6928 - val_accuracy: 0.5102\n",
            "Epoch 22/100\n",
            "78/78 [==============================] - 2s 24ms/step - loss: 0.6938 - accuracy: 0.5047 - val_loss: 0.6928 - val_accuracy: 0.5102\n",
            "Epoch 23/100\n",
            "78/78 [==============================] - 2s 24ms/step - loss: 0.6929 - accuracy: 0.5154 - val_loss: 0.6927 - val_accuracy: 0.5102\n",
            "Epoch 24/100\n",
            "78/78 [==============================] - 2s 24ms/step - loss: 0.6933 - accuracy: 0.5068 - val_loss: 0.6927 - val_accuracy: 0.5102\n",
            "Epoch 25/100\n",
            "78/78 [==============================] - 2s 24ms/step - loss: 0.6926 - accuracy: 0.5173 - val_loss: 0.6927 - val_accuracy: 0.5102\n",
            "Epoch 26/100\n",
            "78/78 [==============================] - 2s 24ms/step - loss: 0.6927 - accuracy: 0.5130 - val_loss: 0.6927 - val_accuracy: 0.5102\n",
            "Epoch 27/100\n",
            "78/78 [==============================] - 2s 24ms/step - loss: 0.6930 - accuracy: 0.5106 - val_loss: 0.6926 - val_accuracy: 0.5102\n",
            "Epoch 28/100\n",
            "78/78 [==============================] - 2s 25ms/step - loss: 0.6938 - accuracy: 0.5060 - val_loss: 0.6926 - val_accuracy: 0.5102\n",
            "Epoch 29/100\n",
            "78/78 [==============================] - 2s 26ms/step - loss: 0.6930 - accuracy: 0.5115 - val_loss: 0.6926 - val_accuracy: 0.5102\n",
            "Epoch 30/100\n",
            "78/78 [==============================] - 2s 25ms/step - loss: 0.6934 - accuracy: 0.5016 - val_loss: 0.6926 - val_accuracy: 0.5102\n",
            "Epoch 31/100\n",
            "78/78 [==============================] - 2s 24ms/step - loss: 0.6928 - accuracy: 0.5104 - val_loss: 0.6925 - val_accuracy: 0.5102\n",
            "Epoch 32/100\n",
            "78/78 [==============================] - 2s 25ms/step - loss: 0.6927 - accuracy: 0.5159 - val_loss: 0.6925 - val_accuracy: 0.5102\n",
            "Epoch 33/100\n",
            "78/78 [==============================] - 2s 24ms/step - loss: 0.6930 - accuracy: 0.5087 - val_loss: 0.6924 - val_accuracy: 0.5102\n",
            "Epoch 34/100\n",
            "78/78 [==============================] - 2s 25ms/step - loss: 0.6925 - accuracy: 0.5146 - val_loss: 0.6923 - val_accuracy: 0.5102\n",
            "Epoch 35/100\n",
            "78/78 [==============================] - 2s 24ms/step - loss: 0.6931 - accuracy: 0.5135 - val_loss: 0.6922 - val_accuracy: 0.5102\n",
            "Epoch 36/100\n",
            "78/78 [==============================] - 2s 24ms/step - loss: 0.6923 - accuracy: 0.5226 - val_loss: 0.6921 - val_accuracy: 0.5102\n",
            "Epoch 37/100\n",
            "78/78 [==============================] - 2s 24ms/step - loss: 0.6923 - accuracy: 0.5234 - val_loss: 0.6919 - val_accuracy: 0.5102\n",
            "Epoch 38/100\n",
            "78/78 [==============================] - 2s 24ms/step - loss: 0.6921 - accuracy: 0.5230 - val_loss: 0.6917 - val_accuracy: 0.5102\n",
            "Epoch 39/100\n",
            "78/78 [==============================] - 2s 25ms/step - loss: 0.6919 - accuracy: 0.5274 - val_loss: 0.6914 - val_accuracy: 0.5102\n",
            "Epoch 40/100\n",
            "78/78 [==============================] - 2s 24ms/step - loss: 0.6912 - accuracy: 0.5322 - val_loss: 0.6911 - val_accuracy: 0.5173\n",
            "Epoch 41/100\n",
            "78/78 [==============================] - 2s 24ms/step - loss: 0.6908 - accuracy: 0.5350 - val_loss: 0.6906 - val_accuracy: 0.5245\n",
            "Epoch 42/100\n",
            "78/78 [==============================] - 2s 24ms/step - loss: 0.6907 - accuracy: 0.5364 - val_loss: 0.6899 - val_accuracy: 0.5806\n",
            "Epoch 43/100\n",
            "78/78 [==============================] - 2s 24ms/step - loss: 0.6891 - accuracy: 0.5451 - val_loss: 0.6890 - val_accuracy: 0.6178\n",
            "Epoch 44/100\n",
            "78/78 [==============================] - 2s 24ms/step - loss: 0.6880 - accuracy: 0.5561 - val_loss: 0.6876 - val_accuracy: 0.6495\n",
            "Epoch 45/100\n",
            "78/78 [==============================] - 2s 24ms/step - loss: 0.6859 - accuracy: 0.5657 - val_loss: 0.6857 - val_accuracy: 0.6657\n",
            "Epoch 46/100\n",
            "78/78 [==============================] - 2s 24ms/step - loss: 0.6833 - accuracy: 0.5787 - val_loss: 0.6831 - val_accuracy: 0.6739\n",
            "Epoch 47/100\n",
            "78/78 [==============================] - 2s 26ms/step - loss: 0.6776 - accuracy: 0.5931 - val_loss: 0.6788 - val_accuracy: 0.6916\n",
            "Epoch 48/100\n",
            "78/78 [==============================] - 2s 25ms/step - loss: 0.6750 - accuracy: 0.5951 - val_loss: 0.6750 - val_accuracy: 0.6864\n",
            "Epoch 49/100\n",
            "78/78 [==============================] - 2s 24ms/step - loss: 0.6721 - accuracy: 0.5893 - val_loss: 0.6708 - val_accuracy: 0.6803\n",
            "Epoch 50/100\n",
            "78/78 [==============================] - 2s 24ms/step - loss: 0.6641 - accuracy: 0.6047 - val_loss: 0.6655 - val_accuracy: 0.6834\n",
            "Epoch 51/100\n",
            "78/78 [==============================] - 2s 24ms/step - loss: 0.6643 - accuracy: 0.6087 - val_loss: 0.6618 - val_accuracy: 0.6709\n",
            "Epoch 52/100\n",
            "78/78 [==============================] - 2s 24ms/step - loss: 0.6599 - accuracy: 0.6149 - val_loss: 0.6581 - val_accuracy: 0.6683\n",
            "Epoch 53/100\n",
            "78/78 [==============================] - 2s 24ms/step - loss: 0.6499 - accuracy: 0.6298 - val_loss: 0.6512 - val_accuracy: 0.6834\n",
            "Epoch 54/100\n",
            "78/78 [==============================] - 2s 24ms/step - loss: 0.6455 - accuracy: 0.6325 - val_loss: 0.6473 - val_accuracy: 0.6702\n",
            "Epoch 55/100\n",
            "78/78 [==============================] - 2s 24ms/step - loss: 0.6427 - accuracy: 0.6424 - val_loss: 0.6430 - val_accuracy: 0.6736\n",
            "Epoch 56/100\n",
            "78/78 [==============================] - 2s 25ms/step - loss: 0.6384 - accuracy: 0.6405 - val_loss: 0.6392 - val_accuracy: 0.6724\n",
            "Epoch 57/100\n",
            "78/78 [==============================] - 2s 26ms/step - loss: 0.6351 - accuracy: 0.6419 - val_loss: 0.6343 - val_accuracy: 0.6819\n",
            "Epoch 58/100\n",
            "78/78 [==============================] - 4s 49ms/step - loss: 0.6187 - accuracy: 0.6634 - val_loss: 0.6281 - val_accuracy: 0.6837\n",
            "Epoch 59/100\n",
            "78/78 [==============================] - 2s 29ms/step - loss: 0.6273 - accuracy: 0.6493 - val_loss: 0.6252 - val_accuracy: 0.6841\n",
            "Epoch 60/100\n",
            "78/78 [==============================] - 2s 28ms/step - loss: 0.6168 - accuracy: 0.6647 - val_loss: 0.6202 - val_accuracy: 0.6852\n",
            "Epoch 61/100\n",
            "78/78 [==============================] - 2s 24ms/step - loss: 0.6188 - accuracy: 0.6642 - val_loss: 0.6194 - val_accuracy: 0.6834\n",
            "Epoch 62/100\n",
            "78/78 [==============================] - 2s 24ms/step - loss: 0.6155 - accuracy: 0.6689 - val_loss: 0.6149 - val_accuracy: 0.6867\n",
            "Epoch 63/100\n",
            "78/78 [==============================] - 2s 24ms/step - loss: 0.6111 - accuracy: 0.6644 - val_loss: 0.6114 - val_accuracy: 0.6879\n",
            "Epoch 64/100\n",
            "78/78 [==============================] - 2s 24ms/step - loss: 0.6078 - accuracy: 0.6700 - val_loss: 0.6090 - val_accuracy: 0.6913\n",
            "Epoch 65/100\n",
            "78/78 [==============================] - 2s 24ms/step - loss: 0.6044 - accuracy: 0.6710 - val_loss: 0.6065 - val_accuracy: 0.6890\n",
            "Epoch 66/100\n",
            "78/78 [==============================] - 2s 25ms/step - loss: 0.6059 - accuracy: 0.6624 - val_loss: 0.6048 - val_accuracy: 0.6909\n",
            "Epoch 67/100\n",
            "78/78 [==============================] - 2s 23ms/step - loss: 0.6016 - accuracy: 0.6700 - val_loss: 0.6032 - val_accuracy: 0.6898\n",
            "Epoch 68/100\n",
            "78/78 [==============================] - 2s 25ms/step - loss: 0.5965 - accuracy: 0.6781 - val_loss: 0.6000 - val_accuracy: 0.6920\n",
            "Epoch 69/100\n",
            "78/78 [==============================] - 2s 24ms/step - loss: 0.5915 - accuracy: 0.6824 - val_loss: 0.5968 - val_accuracy: 0.6958\n",
            "Epoch 70/100\n",
            "78/78 [==============================] - 2s 24ms/step - loss: 0.5897 - accuracy: 0.6798 - val_loss: 0.5936 - val_accuracy: 0.7003\n",
            "Epoch 71/100\n",
            "78/78 [==============================] - 2s 24ms/step - loss: 0.5869 - accuracy: 0.6822 - val_loss: 0.5938 - val_accuracy: 0.6950\n",
            "Epoch 72/100\n",
            "78/78 [==============================] - 2s 24ms/step - loss: 0.5816 - accuracy: 0.6867 - val_loss: 0.5898 - val_accuracy: 0.7026\n",
            "Epoch 73/100\n",
            "78/78 [==============================] - 2s 24ms/step - loss: 0.5782 - accuracy: 0.6830 - val_loss: 0.5888 - val_accuracy: 0.6999\n",
            "Epoch 74/100\n",
            "78/78 [==============================] - 2s 24ms/step - loss: 0.5736 - accuracy: 0.6905 - val_loss: 0.5866 - val_accuracy: 0.6995\n",
            "Epoch 75/100\n",
            "78/78 [==============================] - 2s 30ms/step - loss: 0.5777 - accuracy: 0.6874 - val_loss: 0.5828 - val_accuracy: 0.7044\n",
            "Epoch 76/100\n",
            "78/78 [==============================] - 2s 30ms/step - loss: 0.5707 - accuracy: 0.6867 - val_loss: 0.5802 - val_accuracy: 0.7067\n",
            "Epoch 77/100\n",
            "78/78 [==============================] - 2s 23ms/step - loss: 0.5733 - accuracy: 0.6914 - val_loss: 0.5783 - val_accuracy: 0.7086\n",
            "Epoch 78/100\n",
            "78/78 [==============================] - 2s 23ms/step - loss: 0.5747 - accuracy: 0.6822 - val_loss: 0.5774 - val_accuracy: 0.7097\n",
            "Epoch 79/100\n",
            "78/78 [==============================] - 2s 25ms/step - loss: 0.5686 - accuracy: 0.6915 - val_loss: 0.5774 - val_accuracy: 0.7059\n",
            "Epoch 80/100\n",
            "78/78 [==============================] - 2s 24ms/step - loss: 0.5692 - accuracy: 0.6911 - val_loss: 0.5757 - val_accuracy: 0.7067\n",
            "Epoch 81/100\n",
            "78/78 [==============================] - 2s 24ms/step - loss: 0.5572 - accuracy: 0.6985 - val_loss: 0.5729 - val_accuracy: 0.7086\n",
            "Epoch 82/100\n",
            "78/78 [==============================] - 2s 24ms/step - loss: 0.5628 - accuracy: 0.6982 - val_loss: 0.5705 - val_accuracy: 0.7120\n",
            "Epoch 83/100\n",
            "78/78 [==============================] - 2s 24ms/step - loss: 0.5626 - accuracy: 0.6964 - val_loss: 0.5708 - val_accuracy: 0.7097\n",
            "Epoch 84/100\n",
            "78/78 [==============================] - 2s 24ms/step - loss: 0.5565 - accuracy: 0.7009 - val_loss: 0.5681 - val_accuracy: 0.7120\n",
            "Epoch 85/100\n",
            "78/78 [==============================] - 2s 24ms/step - loss: 0.5559 - accuracy: 0.6981 - val_loss: 0.5668 - val_accuracy: 0.7120\n",
            "Epoch 86/100\n",
            "78/78 [==============================] - 2s 22ms/step - loss: 0.5468 - accuracy: 0.7034 - val_loss: 0.5636 - val_accuracy: 0.7184\n",
            "Epoch 87/100\n",
            "78/78 [==============================] - 2s 23ms/step - loss: 0.5527 - accuracy: 0.7075 - val_loss: 0.5638 - val_accuracy: 0.7169\n",
            "Epoch 88/100\n",
            "78/78 [==============================] - 2s 25ms/step - loss: 0.5491 - accuracy: 0.7030 - val_loss: 0.5612 - val_accuracy: 0.7180\n",
            "Epoch 89/100\n",
            "78/78 [==============================] - 2s 24ms/step - loss: 0.5438 - accuracy: 0.7115 - val_loss: 0.5601 - val_accuracy: 0.7188\n",
            "Epoch 90/100\n",
            "78/78 [==============================] - 2s 24ms/step - loss: 0.5392 - accuracy: 0.7152 - val_loss: 0.5581 - val_accuracy: 0.7195\n",
            "Epoch 91/100\n",
            "78/78 [==============================] - 2s 24ms/step - loss: 0.5444 - accuracy: 0.7116 - val_loss: 0.5570 - val_accuracy: 0.7195\n",
            "Epoch 92/100\n",
            "78/78 [==============================] - 2s 24ms/step - loss: 0.5354 - accuracy: 0.7250 - val_loss: 0.5555 - val_accuracy: 0.7191\n",
            "Epoch 93/100\n",
            "78/78 [==============================] - 2s 24ms/step - loss: 0.5346 - accuracy: 0.7214 - val_loss: 0.5534 - val_accuracy: 0.7218\n",
            "Epoch 94/100\n",
            "78/78 [==============================] - 2s 31ms/step - loss: 0.5344 - accuracy: 0.7209 - val_loss: 0.5532 - val_accuracy: 0.7225\n",
            "Epoch 95/100\n",
            "78/78 [==============================] - 2s 23ms/step - loss: 0.5294 - accuracy: 0.7195 - val_loss: 0.5513 - val_accuracy: 0.7218\n",
            "Epoch 96/100\n",
            "78/78 [==============================] - 2s 23ms/step - loss: 0.5251 - accuracy: 0.7267 - val_loss: 0.5493 - val_accuracy: 0.7203\n",
            "Epoch 97/100\n",
            "78/78 [==============================] - 2s 25ms/step - loss: 0.5281 - accuracy: 0.7254 - val_loss: 0.5495 - val_accuracy: 0.7206\n",
            "Epoch 98/100\n",
            "78/78 [==============================] - 2s 24ms/step - loss: 0.5293 - accuracy: 0.7252 - val_loss: 0.5499 - val_accuracy: 0.7221\n",
            "Epoch 99/100\n",
            "78/78 [==============================] - 2s 24ms/step - loss: 0.5212 - accuracy: 0.7317 - val_loss: 0.5477 - val_accuracy: 0.7218\n",
            "Epoch 100/100\n",
            "78/78 [==============================] - 2s 24ms/step - loss: 0.5228 - accuracy: 0.7357 - val_loss: 0.5465 - val_accuracy: 0.7184\n"
          ],
          "name": "stdout"
        }
      ]
    },
    {
      "cell_type": "code",
      "metadata": {
        "id": "6EvtreNb7Ckx",
        "colab_type": "code",
        "outputId": "10b0daff-af90-49ce-8da3-1313b4d9f77f",
        "colab": {
          "base_uri": "https://localhost:8080/",
          "height": 272
        }
      },
      "source": [
        "predictions_validation = model.predict_classes(validation_features)\n",
        "\n",
        "print(metrics.classification_report(validation_labels, predictions_validation))\n",
        "\n",
        "print(metrics.confusion_matrix(validation_labels, predictions_validation))"
      ],
      "execution_count": 0,
      "outputs": [
        {
          "output_type": "stream",
          "text": [
            "WARNING:tensorflow:From <ipython-input-5-2b904d6bf146>:1: Sequential.predict_classes (from tensorflow.python.keras.engine.sequential) is deprecated and will be removed after 2021-01-01.\n",
            "Instructions for updating:\n",
            "Please use instead:* `np.argmax(model.predict(x), axis=-1)`,   if your model does multi-class classification   (e.g. if it uses a `softmax` last-layer activation).* `(model.predict(x) > 0.5).astype(\"int32\")`,   if your model does binary classification   (e.g. if it uses a `sigmoid` last-layer activation).\n",
            "              precision    recall  f1-score   support\n",
            "\n",
            "           0       0.76      0.61      0.68      1301\n",
            "           1       0.69      0.82      0.75      1355\n",
            "\n",
            "    accuracy                           0.72      2656\n",
            "   macro avg       0.73      0.72      0.71      2656\n",
            "weighted avg       0.73      0.72      0.72      2656\n",
            "\n",
            "[[ 800  501]\n",
            " [ 247 1108]]\n"
          ],
          "name": "stdout"
        }
      ]
    },
    {
      "cell_type": "code",
      "metadata": {
        "id": "M7V4CCYfW2yV",
        "colab_type": "code",
        "outputId": "de193ddc-02bd-4509-d5f8-d4e4c656ab28",
        "colab": {
          "base_uri": "https://localhost:8080/",
          "height": 295
        }
      },
      "source": [
        "plt.plot(history.history['accuracy'])\n",
        "plt.plot(history.history['val_accuracy'])\n",
        "plt.title('Model accuracy')\n",
        "plt.ylabel('Accuracy')\n",
        "plt.xlabel('Epoch')\n",
        "plt.legend(['Training accuracy', 'Validation accuracy'], loc='upper left')\n",
        "plt.show()"
      ],
      "execution_count": 0,
      "outputs": [
        {
          "output_type": "display_data",
          "data": {
            "image/png": "[encoded data removed]",
            "text/plain": [
              "<Figure size 432x288 with 1 Axes>"
            ]
          },
          "metadata": {
            "tags": []
          }
        }
      ]
    },
    {
      "cell_type": "code",
      "metadata": {
        "id": "4ispCmgWQGFP",
        "colab_type": "code",
        "outputId": "d65dc639-5ae4-47fd-d5dc-d934224401df",
        "colab": {
          "base_uri": "https://localhost:8080/",
          "height": 295
        }
      },
      "source": [
        "plt.plot(history.history['loss'])\n",
        "plt.plot(history.history['val_loss'])\n",
        "plt.title('Model loss')\n",
        "plt.ylabel('Loss')\n",
        "plt.xlabel('Epoch')\n",
        "plt.legend(['Training loss', 'Validation loss'], loc='upper left')\n",
        "plt.show()\n"
      ],
      "execution_count": 0,
      "outputs": [
        {
          "output_type": "display_data",
          "data": {
            "image/png": "[encoded data removed]",
            "text/plain": [
              "<Figure size 432x288 with 1 Axes>"
            ]
          },
          "metadata": {
            "tags": []
          }
        }
      ]
    },
    {
      "cell_type": "code",
      "metadata": {
        "id": "hkdkd75bFRMZ",
        "colab_type": "code",
        "colab": {}
      },
      "source": [
        "test_features = transformer.transform(test_data[:, 1])\n",
        "test_features = sparse.csr_matrix.todense(test_features)\n",
        "\n",
        "predictions = model.predict_classes(test_features)"
      ],
      "execution_count": 0,
      "outputs": []
    },
    {
      "cell_type": "code",
      "metadata": {
        "id": "QrHF88r0JAGD",
        "colab_type": "code",
        "outputId": "ba21920c-19d2-4a12-db6f-7a999e9faef8",
        "colab": {
          "base_uri": "https://localhost:8080/",
          "height": 252
        }
      },
      "source": [
        "data = {'id':test_data[:, 0], 'label':predictions.flatten()}\n",
        "\n",
        "df = pd.DataFrame(data)\n",
        "\n",
        "print(df)"
      ],
      "execution_count": 0,
      "outputs": [
        {
          "output_type": "stream",
          "text": [
            "          id  label\n",
            "0     110499      0\n",
            "1     101319      0\n",
            "2     108883      0\n",
            "3     100925      0\n",
            "4     110852      1\n",
            "...      ...    ...\n",
            "2618  104308      0\n",
            "2619  103429      1\n",
            "2620  103098      1\n",
            "2621  107046      1\n",
            "2622  108263      0\n",
            "\n",
            "[2623 rows x 2 columns]\n"
          ],
          "name": "stdout"
        }
      ]
    },
    {
      "cell_type": "code",
      "metadata": {
        "id": "Q6IBeKFtJwwT",
        "colab_type": "code",
        "colab": {}
      },
      "source": [
        "df.to_csv('predictii.csv', index=False)"
      ],
      "execution_count": 0,
      "outputs": []
    }
  ]
}